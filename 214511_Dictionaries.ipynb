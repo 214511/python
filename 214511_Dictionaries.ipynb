{
 "cells": [
  {
   "cell_type": "code",
   "execution_count": 1,
   "metadata": {
    "colab": {
     "base_uri": "https://localhost:8080/"
    },
    "id": "WA_NbH4S9X2X",
    "outputId": "070e61f7-3c3e-41e9-9b34-0284226b2083"
   },
   "outputs": [
    {
     "data": {
      "text/plain": [
       "4"
      ]
     },
     "execution_count": 1,
     "metadata": {},
     "output_type": "execute_result"
    }
   ],
   "source": [
    "my_dict={1:\"ash\",2:\"manu\",3:\"vish\"}\n",
    "my_dict.keys()\n",
    "my_dict.values()\n",
    "my_dict.get(3)\n",
    "my_dict[4]=\"sam\"\n",
    "my_dict\n",
    "my_dict[2]=\"geeta\"\n",
    "my_dict\n",
    "len(my_dict)"
   ]
  },
  {
   "cell_type": "code",
   "execution_count": 2,
   "metadata": {
    "colab": {
     "base_uri": "https://localhost:8080/"
    },
    "id": "-Jt6gpb-_5wd",
    "outputId": "e6b81797-0858-4a21-92e2-e64eeacb5dc8"
   },
   "outputs": [
    {
     "data": {
      "text/plain": [
       "dict_keys([1, 2, 3])"
      ]
     },
     "execution_count": 2,
     "metadata": {},
     "output_type": "execute_result"
    }
   ],
   "source": [
    "my_dict={1:\"ash\",2:\"manu\",3:\"vish\"}\n",
    "my_dict.keys()"
   ]
  },
  {
   "cell_type": "code",
   "execution_count": 3,
   "metadata": {
    "colab": {
     "base_uri": "https://localhost:8080/"
    },
    "id": "tsZy9r5aAQm-",
    "outputId": "e7244107-7aee-42a6-8f03-d298865d6e08"
   },
   "outputs": [
    {
     "data": {
      "text/plain": [
       "dict_values(['ash', 'manu', 'vish'])"
      ]
     },
     "execution_count": 3,
     "metadata": {},
     "output_type": "execute_result"
    }
   ],
   "source": [
    "my_dict={1:\"ash\",2:\"manu\",3:\"vish\"}\n",
    "my_dict.values()"
   ]
  },
  {
   "cell_type": "code",
   "execution_count": null,
   "metadata": {
    "colab": {
     "base_uri": "https://localhost:8080/"
    },
    "id": "myLgFZQhJN01",
    "outputId": "317ca805-4d8d-4a05-cd44-6322b2e09c18"
   },
   "outputs": [
    {
     "data": {
      "text/plain": [
       "[(0, 1), (1, 2), (2, 3), (3, 4), (4, [1, 2, 3]), (5, 6)]"
      ]
     },
     "execution_count": 16,
     "metadata": {},
     "output_type": "execute_result"
    }
   ],
   "source": [
    "tup=(1,2,3,4,[1,2,3],6)\n",
    "list(enumerate(tup))"
   ]
  },
  {
   "cell_type": "code",
   "execution_count": null,
   "metadata": {
    "colab": {
     "base_uri": "https://localhost:8080/"
    },
    "id": "13V9y5hAKS42",
    "outputId": "a0d24f69-dd3a-48b6-a384-84e81fd963d4"
   },
   "outputs": [
    {
     "name": "stdout",
     "output_type": "stream",
     "text": [
      "SAI RAM\n"
     ]
    }
   ],
   "source": [
    "t = ('S','A','I','R','A','M')\n",
    "s = \"\"\n",
    "for i in t[:3]:\n",
    "    s += i\n",
    "s += \" \"\n",
    "for i in t[3:]:\n",
    "    s += i\n",
    "print(s)"
   ]
  },
  {
   "cell_type": "code",
   "execution_count": null,
   "metadata": {
    "colab": {
     "base_uri": "https://localhost:8080/"
    },
    "id": "RPIwvJr_Lwus",
    "outputId": "e2141ccc-ce70-41fe-b012-610eedd1bce7"
   },
   "outputs": [
    {
     "name": "stdout",
     "output_type": "stream",
     "text": [
      "SAI \n"
     ]
    }
   ],
   "source": [
    "t = ('S','A','I','R','A','M')\n",
    "s = \"\"\n",
    "for i in t[:3]:\n",
    "    s += i\n",
    "s += \" \"\n",
    "print(s)"
   ]
  }
 ],
 "metadata": {
  "colab": {
   "name": "Dictionaries-214502",
   "provenance": []
  },
  "kernelspec": {
   "display_name": "Python 3",
   "language": "python",
   "name": "python3"
  },
  "language_info": {
   "codemirror_mode": {
    "name": "ipython",
    "version": 3
   },
   "file_extension": ".py",
   "mimetype": "text/x-python",
   "name": "python",
   "nbconvert_exporter": "python",
   "pygments_lexer": "ipython3",
   "version": "3.8.8"
  }
 },
 "nbformat": 4,
 "nbformat_minor": 1
}
