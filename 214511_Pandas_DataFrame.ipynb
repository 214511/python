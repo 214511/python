{
 "cells": [
  {
   "cell_type": "code",
   "execution_count": null,
   "metadata": {
    "id": "NO_4WhdJZ5Pm"
   },
   "outputs": [],
   "source": [
    "#@title Copyright 2020 Google LLC. Double-click here for license information.\n",
    "# Licensed under the Apache License, Version 2.0 (the \"License\");\n",
    "# you may not use this file except in compliance with the License.\n",
    "# You may obtain a copy of the License at\n",
    "#\n",
    "# https://www.apache.org/licenses/LICENSE-2.0\n",
    "#\n",
    "# Unless required by applicable law or agreed to in writing, software\n",
    "# distributed under the License is distributed on an \"AS IS\" BASIS,\n",
    "# WITHOUT WARRANTIES OR CONDITIONS OF ANY KIND, either express or implied.\n",
    "# See the License for the specific language governing permissions and\n",
    "# limitations under the License."
   ]
  },
  {
   "cell_type": "code",
   "execution_count": null,
   "metadata": {
    "id": "Ml2koq9z-OTI"
   },
   "outputs": [],
   "source": [
    "import numpy as np\n",
    "import pandas as pd\n",
    "import matplotlib.pyplot as plt\n",
    "import seaborn as sns\n",
    "import warnings\n",
    "warnings.filterwarnings('ignore')"
   ]
  },
  {
   "cell_type": "code",
   "execution_count": null,
   "metadata": {
    "id": "m3rFBNlq-RKu"
   },
   "outputs": [],
   "source": [
    "from google.colab import drive\n",
    "drive.mount('/content/drive')\n",
    "data = pd.read_csv(\"Shark_Tank_India_S1.csv\")"
   ]
  },
  {
   "cell_type": "code",
   "execution_count": null,
   "metadata": {
    "id": "7QmhqE1rNDDL"
   },
   "outputs": [],
   "source": [
    "data"
   ]
  },
  {
   "cell_type": "code",
   "execution_count": null,
   "metadata": {
    "id": "uzflc1BlPlr5"
   },
   "outputs": [],
   "source": [
    "data.head()"
   ]
  },
  {
   "cell_type": "code",
   "execution_count": null,
   "metadata": {
    "id": "eXRbkaNeQKQe"
   },
   "outputs": [],
   "source": [
    "data.tail()"
   ]
  },
  {
   "cell_type": "code",
   "execution_count": null,
   "metadata": {
    "id": "ukdGRLoxQP80"
   },
   "outputs": [],
   "source": [
    "data.shape"
   ]
  },
  {
   "cell_type": "code",
   "execution_count": null,
   "metadata": {
    "id": "wLQxU301QVWb"
   },
   "outputs": [],
   "source": [
    "data.columns"
   ]
  },
  {
   "cell_type": "code",
   "execution_count": null,
   "metadata": {
    "id": "Y9TdpcBYQZ79"
   },
   "outputs": [],
   "source": [
    "data.info()"
   ]
  },
  {
   "cell_type": "code",
   "execution_count": null,
   "metadata": {
    "id": "XfhcBpX1Qhuh"
   },
   "outputs": [],
   "source": [
    "data.describe()"
   ]
  },
  {
   "cell_type": "code",
   "execution_count": null,
   "metadata": {
    "id": "SqzntopTQohC"
   },
   "outputs": [],
   "source": [
    "data.isnull().sum()"
   ]
  },
  {
   "cell_type": "code",
   "execution_count": null,
   "metadata": {
    "id": "WYOEEvt7QwNN"
   },
   "outputs": [],
   "source": [
    "data['deal_offered'].value_counts()"
   ]
  },
  {
   "cell_type": "code",
   "execution_count": null,
   "metadata": {
    "id": "djx7YVe-Q_v3"
   },
   "outputs": [],
   "source": [
    "data['aman_present'].value_counts()"
   ]
  },
  {
   "cell_type": "code",
   "execution_count": null,
   "metadata": {
    "id": "U5EvrZehRuKz"
   },
   "outputs": [],
   "source": [
    "data['anupam_present'].value_counts()"
   ]
  },
  {
   "cell_type": "code",
   "execution_count": null,
   "metadata": {
    "id": "nCj9QSiFUu6y"
   },
   "outputs": [],
   "source": [
    "data['ashneer_present'].value_counts()"
   ]
  },
  {
   "cell_type": "code",
   "execution_count": null,
   "metadata": {
    "id": "4hgiDsyiU82I"
   },
   "outputs": [],
   "source": [
    "data['ghazal_present'].value_counts()"
   ]
  },
  {
   "cell_type": "code",
   "execution_count": null,
   "metadata": {
    "id": "23s0rhqZyLVR"
   },
   "outputs": [],
   "source": [
    "data['peyush_present'].value_counts()"
   ]
  },
  {
   "cell_type": "code",
   "execution_count": null,
   "metadata": {
    "id": "dHvA3xW3yb4c"
   },
   "outputs": [],
   "source": [
    "data['namita_present'].value_counts()"
   ]
  },
  {
   "cell_type": "code",
   "execution_count": null,
   "metadata": {
    "id": "4MWwtX2szxVA"
   },
   "outputs": [],
   "source": [
    "aman_present = len(data[data.aman_present == 1])\n",
    "anupam_present = len(data[data.anupam_present == 1])\n",
    "ashneer_present = len(data[data.ashneer_present == 1])\n",
    "ghazal_present = len(data[data.ghazal_present == 1])\n",
    "namita_present = len(data[data.namita_present == 1])\n",
    "peyush_present = len(data[data.peyush_present == 1])\n",
    "vineeta_present = len(data[data.vineeta_present == 1])"
   ]
  },
  {
   "cell_type": "code",
   "execution_count": null,
   "metadata": {
    "id": "7YY28RSW0beA"
   },
   "outputs": [],
   "source": [
    "fig = plt.figure(figsize = (10, 5))\n",
    "present = [aman_present, anupam_present, ashneer_present, ghazal_present,\n",
    "namita_present, peyush_present, vineeta_present]\n",
    "names = ['Aman','Anupam', 'Ashneer', 'Ghazal', 'Namita', 'Peyush', 'Vineeta']\n",
    "plt.bar(names, present, color ='maroon',width = 0.4)\n",
    "plt.xlabel(\"Candidate Name\")\n",
    "plt.ylabel(\"Candidate Present\")\n",
    "plt.title(\"Candidate Present vs Name\")\n",
    "plt.show()"
   ]
  },
  {
   "cell_type": "code",
   "execution_count": null,
   "metadata": {
    "id": "cI1ABbAU1ij2"
   },
   "outputs": [],
   "source": [
    "plt.pie(present, labels = names, radius = 2.0, autopct = '%0.1f%%')\n",
    "plt.suptitle('Percentage of candidates present', x = 0.55,\n",
    "y = 1.15, color = 'red')\n",
    "plt.show()"
   ]
  },
  {
   "cell_type": "code",
   "execution_count": null,
   "metadata": {
    "id": "kfOvCVmm182y"
   },
   "outputs": [],
   "source": [
    "data['aman_invested'].value_counts()"
   ]
  },
  {
   "cell_type": "code",
   "execution_count": null,
   "metadata": {
    "id": "yR92P2qD3Vv-"
   },
   "outputs": [],
   "source": [
    "data['anupam_invested'].value_counts()"
   ]
  },
  {
   "cell_type": "code",
   "execution_count": null,
   "metadata": {
    "id": "lWzvz1VV3rGx"
   },
   "outputs": [],
   "source": [
    "data['ashneer_invested'].value_counts()"
   ]
  },
  {
   "cell_type": "code",
   "execution_count": null,
   "metadata": {
    "id": "DtkDWfcP38Zy"
   },
   "outputs": [],
   "source": [
    "data['ghazal_invested'].value_counts()"
   ]
  },
  {
   "cell_type": "code",
   "execution_count": null,
   "metadata": {
    "id": "quA4yoLr4Egi"
   },
   "outputs": [],
   "source": [
    "data['namita_invested'].value_counts()"
   ]
  },
  {
   "cell_type": "code",
   "execution_count": null,
   "metadata": {
    "id": "1jpKbwtd4lDE"
   },
   "outputs": [],
   "source": [
    "data['peyush_invested'].value_counts()"
   ]
  },
  {
   "cell_type": "code",
   "execution_count": null,
   "metadata": {
    "id": "CGYUQcGz5Gbk"
   },
   "outputs": [],
   "source": [
    "data['vineeta_invested'].value_counts()"
   ]
  },
  {
   "cell_type": "code",
   "execution_count": null,
   "metadata": {
    "id": "BeBWnUnB54Ar"
   },
   "outputs": [],
   "source": [
    "aman_invested = len(data[data.aman_invested == 1])\n",
    "anupam_invested = len(data[data.anupam_invested == 1])\n",
    "ashneer_invested = len(data[data.ashneer_invested == 1])\n",
    "ghazal_invested = len(data[data.ghazal_invested == 1])\n",
    "namita_invested = len(data[data.namita_invested == 1])\n",
    "peyush_invested = len(data[data.peyush_invested == 1])\n",
    "vineeta_invested = len(data[data.vineeta_invested == 1])"
   ]
  },
  {
   "cell_type": "code",
   "execution_count": null,
   "metadata": {
    "id": "lfWA7sB66n42"
   },
   "outputs": [],
   "source": [
    "fig = plt.figure(figsize = (10, 5))\n",
    "invested = [aman_invested, anupam_invested, ashneer_invested, ghazal_invested,\n",
    "namita_invested, peyush_invested, vineeta_invested]\n",
    "names = ['Aman','Anupam', 'Ashneer', 'Ghazal', 'Namita', 'Peyush', 'Vineeta']\n",
    "plt.bar(names, invested, color ='orange',width = 0.4)\n",
    "plt.xlabel(\"Candidate Name\")\n",
    "plt.ylabel(\"Candidate Invested\")\n",
    "plt.title(\"Candidate Invested vs Name\")\n",
    "plt.show()"
   ]
  },
  {
   "cell_type": "code",
   "execution_count": null,
   "metadata": {
    "id": "5xcL-LWw65Z5"
   },
   "outputs": [],
   "source": [
    "plt.pie(invested, labels = names, radius = 2.0, autopct = '%0.1f%%',\n",
    "explode = [0.25,0.25,0.25,0.25,0.25,0.25,0.25])\n",
    "plt.suptitle('Percentage of candidates invested', x = 0.55,\n",
    "y = 1.15, color = 'red')\n",
    "plt.show()"
   ]
  },
  {
   "cell_type": "code",
   "execution_count": null,
   "metadata": {
    "id": "5Vknm98-7F2i"
   },
   "outputs": [],
   "source": [
    "#Percent of investments\n",
    "aman_percent = (aman_invested/aman_present)*100\n",
    "anupam_percent = (anupam_invested/anupam_present)*100\n",
    "ashneer_percent = (ashneer_invested/ashneer_present)*100\n",
    "ghazal_percent = (ghazal_invested/ghazal_present)*100\n",
    "namita_percent = (namita_invested/namita_present)*100\n",
    "peyush_percent = (peyush_invested/peyush_present)*100\n",
    "vineeta_percent = (vineeta_invested/vineeta_present)*100"
   ]
  },
  {
   "cell_type": "code",
   "execution_count": null,
   "metadata": {
    "id": "PRmzvFbO7SZ_"
   },
   "outputs": [],
   "source": [
    "fig = plt.figure(figsize = (10, 5))\n",
    "percentage = [aman_percent, anupam_percent, ashneer_percent, ghazal_percent,\n",
    "namita_percent, peyush_percent, vineeta_percent]\n",
    "names = ['Aman','Anupam', 'Ashneer', 'Ghazal', 'Namita', 'Peyush', 'Vineeta']\n",
    "plt.bar(names, percentage, color ='blue',width = 0.4)\n",
    "plt.xlabel(\"Candidate Name\")\n",
    "plt.ylabel(\"Candidate Invested - Percentage\")\n",
    "plt.title(\"Candidate Invested - Percentage vs Name\")\n",
    "plt.show()"
   ]
  },
  {
   "cell_type": "code",
   "execution_count": null,
   "metadata": {
    "id": "vpVLBI137c8o"
   },
   "outputs": [],
   "source": [
    "plt.pie(percentage, labels = names, radius = 2.0, autopct = '%0.1f%%',\n",
    "explode = [0.25,0.25,0.25,0.25,0.25,0.25,0.25])\n",
    "plt.show()"
   ]
  },
  {
   "cell_type": "markdown",
   "metadata": {
    "id": "DeKRcpe49VnV"
   },
   "source": [
    "# Pandas DataFrame UltraQuick Tutorial\n",
    "\n",
    "This Colab introduces [**DataFrames**](https://pandas.pydata.org/pandas-docs/stable/reference/api/pandas.DataFrame.html), which are the central data structure in the pandas API. This Colab is not a comprehensive DataFrames tutorial.  Rather, this Colab provides a very quick introduction to the parts of DataFrames required to do the other Colab exercises in Machine Learning Crash Course.\n",
    "\n",
    "A DataFrame is similar to an in-memory spreadsheet. Like a spreadsheet:\n",
    "\n",
    "  * A DataFrame stores data in cells. \n",
    "  * A DataFrame has named columns (usually) and numbered rows."
   ]
  },
  {
   "cell_type": "markdown",
   "metadata": {
    "id": "AByfHsr8H_sU"
   },
   "source": [
    "## Import NumPy and pandas modules\n",
    "\n",
    "Run the following code cell to import the NumPy and pandas modules. "
   ]
  },
  {
   "cell_type": "code",
   "execution_count": null,
   "metadata": {
    "id": "ZmL0l551Iibq"
   },
   "outputs": [],
   "source": [
    "import numpy as np\n",
    "import pandas as pd"
   ]
  },
  {
   "cell_type": "markdown",
   "metadata": {
    "id": "RutIK84wIp1S"
   },
   "source": [
    "## Creating a DataFrame\n",
    "\n",
    "The following code cell creates a simple DataFrame containing 10 cells organized as follows:\n",
    "\n",
    "  * 5 rows\n",
    "  * 2 columns, one named `temperature` and the other named `activity`\n",
    "\n",
    "The following code cell instantiates a `pd.DataFrame` class to generate a DataFrame. The class takes two arguments:\n",
    "\n",
    "  * The first argument provides the data to populate the 10 cells. The code cell calls `np.array` to generate the 5x2 NumPy array.\n",
    "  * The second argument identifies the names of the two columns."
   ]
  },
  {
   "cell_type": "code",
   "execution_count": null,
   "metadata": {
    "id": "FNZsPOgSD4F2"
   },
   "outputs": [],
   "source": [
    "# Create and populate a 5x2 NumPy array.\n",
    "my_data = np.array([[0, 3], [10, 7], [20, 9], [30, 14], [40, 15]])\n",
    "\n",
    "# Create a Python list that holds the names of the two columns.\n",
    "my_column_names = ['temperature', 'activity']\n",
    "\n",
    "# Create a DataFrame.\n",
    "my_dataframe = pd.DataFrame(data=my_data, columns=my_column_names)\n",
    "\n",
    "# Print the entire DataFrame\n",
    "print(my_dataframe)"
   ]
  },
  {
   "cell_type": "code",
   "execution_count": null,
   "metadata": {
    "id": "_lFXvUEPLkSe"
   },
   "outputs": [],
   "source": [
    "# Create and populate a 5x3 NumPy array.\n",
    "#Reg_No = Col1, Name= Col2, Marks=Col3\n",
    "my_class_data = np.array ([[224501,'A', 90], [224502,'B', 90], [224503, 'C', 89], [224504, 'D', 82], [224505, 'E', 84]])\n",
    "my_classCol_names = ['Reg_No', 'Name', 'Eco_Marks']\n",
    "\n",
    "my_class_dataframe = pd.DataFrame(data=my_class_data, columns=my_classCol_names)\n",
    "\n",
    "print(my_class_dataframe)\n",
    "\n",
    "#my_class_dataframe['Eco_Marks'].mean()\n",
    "#my_class_dataframe['Eco_Marks'].median()\n",
    "my_class_dataframe['Eco_Marks'].mode()\n",
    "\n",
    "\n",
    "#my_class_dataframe[\"Lab_Marks\"] = my_class_dataframe[\"Eco_Marks\"] + 2\n",
    "#print(my_class_dataframe) \n",
    "\n",
    "\n"
   ]
  },
  {
   "cell_type": "markdown",
   "metadata": {
    "id": "NJ-I78_7OFVs"
   },
   "source": [
    "## Adding a new column to a DataFrame\n",
    "\n",
    "You may add a new column to an existing pandas DataFrame just by assigning values to a new column name. For example, the following code creates a third column named `adjusted` in `my_dataframe`: "
   ]
  },
  {
   "cell_type": "code",
   "execution_count": null,
   "metadata": {
    "id": "JEBZyMdEOngx"
   },
   "outputs": [],
   "source": [
    "# Create a new column named adjusted.\n",
    "my_dataframe[\"adjusted\"] = my_dataframe[\"activity\"] + 2\n",
    "\n",
    "# Print the entire DataFrame\n",
    "print(my_dataframe)"
   ]
  },
  {
   "cell_type": "markdown",
   "metadata": {
    "id": "RJ2aziCR5th2"
   },
   "source": [
    "## Specifying a subset of a DataFrame\n",
    "\n",
    "Pandas provide multiples ways to isolate specific rows, columns, slices or cells in a DataFrame. "
   ]
  },
  {
   "cell_type": "code",
   "execution_count": null,
   "metadata": {
    "id": "RIO91Fu65s6k"
   },
   "outputs": [],
   "source": [
    "print(\"Rows #0, #1, and #2:\")\n",
    "print(my_dataframe.head(3), '\\n')\n",
    "\n",
    "print(\"Row #2:\")\n",
    "print(my_dataframe.iloc[[2]], '\\n')\n",
    "\n",
    "print(\"Rows #1, #2, and #3:\")\n",
    "print(my_dataframe[1:4], '\\n')\n",
    "\n",
    "print(\"Column 'temperature':\")\n",
    "print(my_dataframe['temperature'])"
   ]
  },
  {
   "cell_type": "code",
   "execution_count": null,
   "metadata": {
    "id": "ynfV3w4xH_1x"
   },
   "outputs": [],
   "source": [
    "import pandas as pd\n",
    "from google.colab import files\n",
    "uploaded = files.upload()\n",
    "import io\n",
    "df2 = pd.read_csv(io.BytesIO(uploaded['IBBA_2145xx.csv']))\n",
    "print (df2)"
   ]
  },
  {
   "cell_type": "markdown",
   "metadata": {
    "id": "_cL_NxAdZzdS"
   },
   "source": [
    "## Task 1: Create a DataFrame\n",
    "\n",
    "Do the following:\n",
    "\n",
    "  1. Create an 3x4 (3 rows x 4 columns) pandas DataFrame in which the columns are named `Eleanor`,  `Chidi`, `Tahani`, and `Jason`.  Populate each of the 12 cells in the DataFrame with a random integer between 0 and 100, inclusive.\n",
    "\n",
    "  2. Output the following:\n",
    "\n",
    "     * the entire DataFrame\n",
    "     * the value in the cell of row #1 of the `Eleanor` column\n",
    "\n",
    "  3. Create a fifth column named `Janet`, which is populated with the row-by-row sums of `Tahani` and `Jason`.\n",
    "\n",
    "To complete this task, it helps to know the NumPy basics covered in the NumPy UltraQuick Tutorial. \n"
   ]
  },
  {
   "cell_type": "code",
   "execution_count": null,
   "metadata": {
    "id": "cIJEv08DMSxj"
   },
   "outputs": [],
   "source": [
    "# Write your code here."
   ]
  },
  {
   "cell_type": "code",
   "execution_count": null,
   "metadata": {
    "cellView": "form",
    "id": "dPmpVM_8IoBO"
   },
   "outputs": [],
   "source": [
    "#@title Double-click for a solution to Task 1.\n",
    "\n",
    "# Create a Python list that holds the names of the four columns.\n",
    "my_column_names = ['Eleanor', 'Chidi', 'Tahani', 'Jason']\n",
    "\n",
    "# Create a 3x4 numpy array, each cell populated with a random integer.\n",
    "my_data = np.random.randint(low=0, high=101, size=(3, 4))\n",
    "\n",
    "# Create a DataFrame.\n",
    "df = pd.DataFrame(data=my_data, columns=my_column_names)\n",
    "\n",
    "# Print the entire DataFrame\n",
    "print(df)\n",
    "\n",
    "# Print the value in row #1 of the Eleanor column.\n",
    "print(\"\\nSecond row of the Eleanor column: %d\\n\" % df['Eleanor'][1])\n",
    "\n",
    "# Create a column named Janet whose contents are the sum\n",
    "# of two other columns.\n",
    "df['Janet'] = df['Tahani'] + df['Jason']\n",
    "\n",
    "# Print the enhanced DataFrame\n",
    "print(df)"
   ]
  },
  {
   "cell_type": "markdown",
   "metadata": {
    "id": "bh7MeyafemNL"
   },
   "source": [
    "## Copying a DataFrame (optional)\n",
    "\n",
    "Pandas provides two different ways to duplicate a DataFrame:\n",
    "\n",
    "* **Referencing.** If you assign a DataFrame to a new variable, any change to the DataFrame or to the new variable will be reflected in the other. \n",
    "* **Copying.** If you call the `pd.DataFrame.copy` method, you create a true independent copy.  Changes to the original DataFrame or to the copy will not be reflected in the other. \n",
    "\n",
    "The difference is subtle, but important."
   ]
  },
  {
   "cell_type": "code",
   "execution_count": null,
   "metadata": {
    "id": "YDu2VotPgzsW"
   },
   "outputs": [],
   "source": [
    "# Create a reference by assigning my_dataframe to a new variable.\n",
    "print(\"Experiment with a reference:\")\n",
    "reference_to_df = df\n",
    "\n",
    "# Print the starting value of a particular cell.\n",
    "print(\"  Starting value of df: %d\" % df['Jason'][1])\n",
    "print(\"  Starting value of reference_to_df: %d\\n\" % reference_to_df['Jason'][1])\n",
    "\n",
    "# Modify a cell in df.\n",
    "df.at[1, 'Jason'] = df['Jason'][1] + 5\n",
    "print(\"  Updated df: %d\" % df['Jason'][1])\n",
    "print(\"  Updated reference_to_df: %d\\n\\n\" % reference_to_df['Jason'][1])\n",
    "\n",
    "# Create a true copy of my_dataframe\n",
    "print(\"Experiment with a true copy:\")\n",
    "copy_of_my_dataframe = my_dataframe.copy()\n",
    "\n",
    "# Print the starting value of a particular cell.\n",
    "print(\"  Starting value of my_dataframe: %d\" % my_dataframe['activity'][1])\n",
    "print(\"  Starting value of copy_of_my_dataframe: %d\\n\" % copy_of_my_dataframe['activity'][1])\n",
    "\n",
    "# Modify a cell in df.\n",
    "my_dataframe.at[1, 'activity'] = my_dataframe['activity'][1] + 3\n",
    "print(\"  Updated my_dataframe: %d\" % my_dataframe['activity'][1])\n",
    "print(\"  copy_of_my_dataframe does not get updated: %d\" % copy_of_my_dataframe['activity'][1])"
   ]
  }
 ],
 "metadata": {
  "colab": {
   "collapsed_sections": [],
   "name": "Pandas DataFrame_214503.ipynb",
   "private_outputs": true,
   "provenance": [
    {
     "file_id": "1Sq73RootCLHwc8WfhFLLV7YMzREyGLI-",
     "timestamp": 1648720973259
    },
    {
     "file_id": "https://github.com/google/eng-edu/blob/master/ml/cc/exercises/pandas_dataframe_ultraquick_tutorial.ipynb",
     "timestamp": 1646719264688
    }
   ]
  },
  "kernelspec": {
   "display_name": "Python 3",
   "language": "python",
   "name": "python3"
  },
  "language_info": {
   "codemirror_mode": {
    "name": "ipython",
    "version": 3
   },
   "file_extension": ".py",
   "mimetype": "text/x-python",
   "name": "python",
   "nbconvert_exporter": "python",
   "pygments_lexer": "ipython3",
   "version": "3.8.8"
  }
 },
 "nbformat": 4,
 "nbformat_minor": 1
}
