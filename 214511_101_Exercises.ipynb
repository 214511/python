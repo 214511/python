{
 "cells": [
  {
   "cell_type": "code",
   "execution_count": 1,
   "id": "270ffd4d",
   "metadata": {},
   "outputs": [
    {
     "name": "stdout",
     "output_type": "stream",
     "text": [
      "False\n"
     ]
    }
   ],
   "source": [
    "# Exercise 1\n",
    "on_mars_right = False\n",
    "print(on_mars_right)"
   ]
  },
  {
   "cell_type": "code",
   "execution_count": 2,
   "id": "728abbdc",
   "metadata": {},
   "outputs": [
    {
     "name": "stdout",
     "output_type": "stream",
     "text": [
      "['mango', 'banana', 'guava', 'kiwi', 'strawberry']\n"
     ]
    }
   ],
   "source": [
    "# Exercise 2\n",
    "fruits = [\"mango\", \"banana\", \"guava\", \"kiwi\", \"strawberry\"]\n",
    "print(fruits)"
   ]
  },
  {
   "cell_type": "code",
   "execution_count": 3,
   "id": "d1b21f3c",
   "metadata": {},
   "outputs": [
    {
     "name": "stdout",
     "output_type": "stream",
     "text": [
      "['eggplant', 'broccoli', 'carrot', 'cauliflower', 'zucchini']\n"
     ]
    }
   ],
   "source": [
    "# Exercise 3\n",
    "vegetables = [\"eggplant\", \"broccoli\", \"carrot\", \"cauliflower\", \"zucchini\"] \n",
    "print(vegetables)"
   ]
  },
  {
   "cell_type": "code",
   "execution_count": 4,
   "id": "554f3b11",
   "metadata": {},
   "outputs": [
    {
     "name": "stdout",
     "output_type": "stream",
     "text": [
      "[1, 2, 3, 4, 5, 6, 7, 8, 9, 10]\n"
     ]
    }
   ],
   "source": [
    "# Exercise 4\n",
    "numbers = [1, 2, 3, 4, 5, 6, 7, 8, 9, 10]\n",
    "print(numbers)"
   ]
  },
  {
   "cell_type": "code",
   "execution_count": 5,
   "id": "21335768",
   "metadata": {},
   "outputs": [
    {
     "name": "stdout",
     "output_type": "stream",
     "text": [
      "['mango', 'banana', 'guava', 'kiwi', 'strawberry', 'tomato']\n"
     ]
    }
   ],
   "source": [
    "# Exercise 5\n",
    "fruits = [\"mango\", \"banana\", \"guava\", \"kiwi\", \"strawberry\"]\n",
    "fruits.append(\"tomato\")\n",
    "print(fruits)"
   ]
  },
  {
   "cell_type": "code",
   "execution_count": 6,
   "id": "29772966",
   "metadata": {},
   "outputs": [
    {
     "name": "stdout",
     "output_type": "stream",
     "text": [
      "['eggplant', 'broccoli', 'carrot', 'cauliflower', 'zucchini', 'tomato']\n"
     ]
    }
   ],
   "source": [
    "# Exercise 6\n",
    "vegetables = [\"eggplant\", \"broccoli\", \"carrot\", \"cauliflower\", \"zucchini\"]\n",
    "vegetables.append(\"tomato\")\n",
    "print(vegetables)"
   ]
  },
  {
   "cell_type": "code",
   "execution_count": 7,
   "id": "9e440664",
   "metadata": {},
   "outputs": [
    {
     "name": "stdout",
     "output_type": "stream",
     "text": [
      "[10, 9, 8, 7, 6, 5, 4, 3, 2, 1]\n"
     ]
    }
   ],
   "source": [
    "# Exercise 7\n",
    "numbers = [1, 2, 3, 4, 5, 6, 7, 8, 9, 10]\n",
    "numbers.reverse()\n",
    "print(numbers)"
   ]
  },
  {
   "cell_type": "code",
   "execution_count": 8,
   "id": "0d791724",
   "metadata": {},
   "outputs": [
    {
     "name": "stdout",
     "output_type": "stream",
     "text": [
      "['broccoli', 'carrot', 'cauliflower', 'eggplant', 'tomato', 'zucchini']\n"
     ]
    }
   ],
   "source": [
    "# Exercise 8\n",
    "vegetables.sort()\n",
    "print(vegetables)"
   ]
  },
  {
   "cell_type": "code",
   "execution_count": 9,
   "id": "ea43898d",
   "metadata": {},
   "outputs": [
    {
     "name": "stdout",
     "output_type": "stream",
     "text": [
      "['tomato', 'strawberry', 'mango', 'kiwi', 'guava', 'banana']\n"
     ]
    }
   ],
   "source": [
    "# Exercise 9\n",
    "fruits.sort(reverse=True)\n",
    "print(fruits)"
   ]
  },
  {
   "cell_type": "code",
   "execution_count": 10,
   "id": "5a311aad",
   "metadata": {},
   "outputs": [
    {
     "name": "stdout",
     "output_type": "stream",
     "text": [
      "['tomato', 'strawberry', 'mango', 'kiwi', 'guava', 'banana', 'broccoli', 'carrot', 'cauliflower', 'eggplant', 'tomato', 'zucchini']\n"
     ]
    }
   ],
   "source": [
    "# Exercise 10\n",
    "fruits_and_veggies = fruits + vegetables\n",
    "print(fruits_and_veggies)"
   ]
  },
  {
   "cell_type": "code",
   "execution_count": 125,
   "id": "6d200250",
   "metadata": {},
   "outputs": [
    {
     "name": "stdout",
     "output_type": "stream",
     "text": [
      "3\n"
     ]
    }
   ],
   "source": [
    "# Exercise 11\n",
    "def add_one(n):\n",
    "    return n + 1\n",
    "\n",
    "print(add_one(2))"
   ]
  },
  {
   "cell_type": "code",
   "execution_count": 12,
   "id": "9e1c8e50",
   "metadata": {},
   "outputs": [
    {
     "name": "stdout",
     "output_type": "stream",
     "text": [
      "False\n",
      "False\n",
      "True\n"
     ]
    }
   ],
   "source": [
    "# Exercise 12\n",
    "def is_positive(n):\n",
    "    if n > 0:\n",
    "        return True\n",
    "    else:\n",
    "        return False\n",
    "print(is_positive(0))\n",
    "print(is_positive(-1))\n",
    "print(is_positive(1))"
   ]
  },
  {
   "cell_type": "code",
   "execution_count": 13,
   "id": "d272bbce",
   "metadata": {},
   "outputs": [
    {
     "name": "stdout",
     "output_type": "stream",
     "text": [
      "False\n",
      "True\n",
      "False\n"
     ]
    }
   ],
   "source": [
    "# Exercise 13\n",
    "def is_negative(n):\n",
    "    if n < 0:\n",
    "        return True\n",
    "    else:\n",
    "        return False\n",
    "print(is_negative(0))\n",
    "print(is_negative(-1))\n",
    "print(is_negative(1))"
   ]
  },
  {
   "cell_type": "code",
   "execution_count": 107,
   "id": "bbde25dc",
   "metadata": {},
   "outputs": [
    {
     "name": "stdout",
     "output_type": "stream",
     "text": [
      "True\n",
      "False\n"
     ]
    }
   ],
   "source": [
    "# Exercise 14\n",
    "def is_odd(n):\n",
    "    if n%2 != 0:\n",
    "        return True\n",
    "    else:\n",
    "        return False\n",
    "\n",
    "print(is_odd(3))\n",
    "print(is_odd(-4))"
   ]
  },
  {
   "cell_type": "code",
   "execution_count": 122,
   "id": "2bf2b647",
   "metadata": {},
   "outputs": [
    {
     "name": "stdout",
     "output_type": "stream",
     "text": [
      "False\n",
      "True\n",
      "False\n"
     ]
    }
   ],
   "source": [
    "# Exercise 15\n",
    "def is_even(n):\n",
    "    if n%2 == 0:\n",
    "        return True\n",
    "    else:\n",
    "        return False\n",
    "\n",
    "print(is_even(5))\n",
    "print(is_even(-4))\n",
    "print(is_even(9))"
   ]
  },
  {
   "cell_type": "code",
   "execution_count": 16,
   "id": "166c3c67",
   "metadata": {},
   "outputs": [
    {
     "name": "stdout",
     "output_type": "stream",
     "text": [
      "apple\n"
     ]
    }
   ],
   "source": [
    "# Exercise 16\n",
    "def identity(n):\n",
    "    return n\n",
    "\n",
    "print(identity(\"apple\"))"
   ]
  },
  {
   "cell_type": "code",
   "execution_count": 17,
   "id": "5ca61ecb",
   "metadata": {},
   "outputs": [
    {
     "name": "stdout",
     "output_type": "stream",
     "text": [
      "False\n",
      "True\n",
      "False\n"
     ]
    }
   ],
   "source": [
    "# Exercise 17\n",
    "def is_positive_odd(n):\n",
    "    if n > 0 and n%2 != 0:\n",
    "        return True\n",
    "    else:\n",
    "        return False\n",
    "    \n",
    "print(is_positive_odd(-3))\n",
    "print(is_positive_odd(3))\n",
    "print(is_positive_odd(0))"
   ]
  },
  {
   "cell_type": "code",
   "execution_count": 18,
   "id": "d19748b1",
   "metadata": {},
   "outputs": [
    {
     "name": "stdout",
     "output_type": "stream",
     "text": [
      "False\n",
      "True\n",
      "False\n"
     ]
    }
   ],
   "source": [
    "# Exercise 18\n",
    "def is_positive_even(n):\n",
    "    if n > 0 and n%2 == 0:\n",
    "        return True\n",
    "    else:\n",
    "        return False\n",
    "    \n",
    "print(is_positive_even(-2))\n",
    "print(is_positive_even(2))\n",
    "print(is_positive_even(0))"
   ]
  },
  {
   "cell_type": "code",
   "execution_count": 19,
   "id": "2764264d",
   "metadata": {},
   "outputs": [
    {
     "name": "stdout",
     "output_type": "stream",
     "text": [
      "True\n",
      "False\n",
      "False\n"
     ]
    }
   ],
   "source": [
    "# Exercise 19\n",
    "def is_negative_odd(n):\n",
    "    if n < 0 and n%2 != 0:\n",
    "        return True\n",
    "    else:\n",
    "        return False\n",
    "\n",
    "print(is_negative_odd(-3))\n",
    "print(is_negative_odd(3))\n",
    "print(is_negative_odd(0))"
   ]
  },
  {
   "cell_type": "code",
   "execution_count": 20,
   "id": "4b1b7557",
   "metadata": {},
   "outputs": [
    {
     "name": "stdout",
     "output_type": "stream",
     "text": [
      "True\n",
      "False\n",
      "False\n"
     ]
    }
   ],
   "source": [
    "# Exercise 20\n",
    "def is_negative_even(n):\n",
    "    if n < 0 and n%2 == 0:\n",
    "        return True\n",
    "    else:\n",
    "        return False\n",
    "\n",
    "print(is_negative_even(-2))\n",
    "print(is_negative_even(2))\n",
    "print(is_negative_even(0))"
   ]
  },
  {
   "cell_type": "code",
   "execution_count": 21,
   "id": "db869e99",
   "metadata": {},
   "outputs": [
    {
     "name": "stdout",
     "output_type": "stream",
     "text": [
      "1.5\n",
      "5.0\n"
     ]
    }
   ],
   "source": [
    "# Exercise 21\n",
    "def half(n):\n",
    "    return n / 2\n",
    "\n",
    "print(half(3))\n",
    "print(half(10))"
   ]
  },
  {
   "cell_type": "code",
   "execution_count": 22,
   "id": "08a41fe3",
   "metadata": {},
   "outputs": [
    {
     "name": "stdout",
     "output_type": "stream",
     "text": [
      "8\n"
     ]
    }
   ],
   "source": [
    "# Exercise 22\n",
    "def double(n):\n",
    "    return 2 * n\n",
    "\n",
    "print(double(4))"
   ]
  },
  {
   "cell_type": "code",
   "execution_count": 23,
   "id": "4de46841",
   "metadata": {},
   "outputs": [
    {
     "name": "stdout",
     "output_type": "stream",
     "text": [
      "12\n"
     ]
    }
   ],
   "source": [
    "# Exercise 23\n",
    "def triple(n):\n",
    "    return 3 * n\n",
    "\n",
    "print(triple(4))"
   ]
  },
  {
   "cell_type": "code",
   "execution_count": 24,
   "id": "ed803932",
   "metadata": {},
   "outputs": [
    {
     "name": "stdout",
     "output_type": "stream",
     "text": [
      "-12\n",
      "12\n"
     ]
    }
   ],
   "source": [
    "# Exercise 24\n",
    "def reverse_sign(n):\n",
    "    return n * -1\n",
    "\n",
    "print(reverse_sign(12))\n",
    "print(reverse_sign(-12))"
   ]
  },
  {
   "cell_type": "code",
   "execution_count": 114,
   "id": "1c7de09c",
   "metadata": {},
   "outputs": [
    {
     "name": "stdout",
     "output_type": "stream",
     "text": [
      "12\n",
      "12\n"
     ]
    }
   ],
   "source": [
    "# Exercise 25\n",
    "def absolute_value(n):\n",
    "    if n < 0:\n",
    "        return n * -1 \n",
    "    else:\n",
    "        return n\n",
    "\n",
    "print(absolute_value(-12))\n",
    "print(absolute_value(12))"
   ]
  },
  {
   "cell_type": "code",
   "execution_count": 115,
   "id": "478398e9",
   "metadata": {},
   "outputs": [
    {
     "name": "stdout",
     "output_type": "stream",
     "text": [
      "True\n",
      "False\n"
     ]
    }
   ],
   "source": [
    "# Exercise 26\n",
    "def is_multiple_of_three(n):\n",
    "    if n % 3 == 0:\n",
    "        return True\n",
    "    else:\n",
    "        return False\n",
    "    \n",
    "print(is_multiple_of_three(6))\n",
    "print(is_multiple_of_three(5))"
   ]
  },
  {
   "cell_type": "code",
   "execution_count": 27,
   "id": "d336267f",
   "metadata": {},
   "outputs": [
    {
     "name": "stdout",
     "output_type": "stream",
     "text": [
      "True\n",
      "False\n"
     ]
    }
   ],
   "source": [
    "# Exercise 27\n",
    "def is_multiple_of_five(n):\n",
    "    if n % 5 == 0:\n",
    "        return True\n",
    "    else:\n",
    "        return False\n",
    "    \n",
    "print(is_multiple_of_five(60))\n",
    "print(is_multiple_of_three(2))"
   ]
  },
  {
   "cell_type": "code",
   "execution_count": 28,
   "id": "19afb83f",
   "metadata": {},
   "outputs": [
    {
     "name": "stdout",
     "output_type": "stream",
     "text": [
      "False\n",
      "True\n",
      "False\n",
      "False\n"
     ]
    }
   ],
   "source": [
    "# Exercise 28\n",
    "def is_multiple_of_both_three_and_five(n):\n",
    "    if n % 3 == 0 and n % 5 == 0:\n",
    "        return True\n",
    "    else:\n",
    "        return False\n",
    "    \n",
    "print(is_multiple_of_both_three_and_five(6))\n",
    "print(is_multiple_of_both_three_and_five(15))\n",
    "print(is_multiple_of_both_three_and_five(5))\n",
    "print(is_multiple_of_both_three_and_five(4))"
   ]
  },
  {
   "cell_type": "code",
   "execution_count": 124,
   "id": "b9263333",
   "metadata": {},
   "outputs": [
    {
     "name": "stdout",
     "output_type": "stream",
     "text": [
      "81\n"
     ]
    }
   ],
   "source": [
    "# Exercise 29\n",
    "def square(n):\n",
    "    return n * n\n",
    "\n",
    "print(square(9))"
   ]
  },
  {
   "cell_type": "code",
   "execution_count": 30,
   "id": "17ef3daf",
   "metadata": {},
   "outputs": [
    {
     "name": "stdout",
     "output_type": "stream",
     "text": [
      "2\n"
     ]
    }
   ],
   "source": [
    "# Exercise 30\n",
    "def add(a, b):\n",
    "    return a + b\n",
    "\n",
    "print(add(3, -1))"
   ]
  },
  {
   "cell_type": "code",
   "execution_count": 31,
   "id": "0d353ddb",
   "metadata": {},
   "outputs": [
    {
     "name": "stdout",
     "output_type": "stream",
     "text": [
      "27\n"
     ]
    }
   ],
   "source": [
    "# Exercise 31\n",
    "def cube(n):\n",
    "    return n ** 3\n",
    "\n",
    "print(cube(3))"
   ]
  },
  {
   "cell_type": "code",
   "execution_count": 116,
   "id": "6f8de1f6",
   "metadata": {},
   "outputs": [
    {
     "name": "stdout",
     "output_type": "stream",
     "text": [
      "4.0\n"
     ]
    }
   ],
   "source": [
    "# Exercise 32\n",
    "import math\n",
    "def square_root(n):\n",
    "    return math.sqrt(n)\n",
    "\n",
    "print(square_root(16))"
   ]
  },
  {
   "cell_type": "code",
   "execution_count": 33,
   "id": "bc6b2335",
   "metadata": {},
   "outputs": [
    {
     "name": "stdout",
     "output_type": "stream",
     "text": [
      "5\n"
     ]
    }
   ],
   "source": [
    "# Exercise 33\n",
    "def subtract(a, b):\n",
    "    return a - b\n",
    "\n",
    "print(subtract(8, 3))"
   ]
  },
  {
   "cell_type": "code",
   "execution_count": 34,
   "id": "7ef86c3f",
   "metadata": {},
   "outputs": [
    {
     "name": "stdout",
     "output_type": "stream",
     "text": [
      "6\n"
     ]
    }
   ],
   "source": [
    "# Exercise 34\n",
    "def multiply(a, b):\n",
    "    return a * b\n",
    "\n",
    "print(multiply(2, 3))"
   ]
  },
  {
   "cell_type": "code",
   "execution_count": 35,
   "id": "6324dd41",
   "metadata": {},
   "outputs": [
    {
     "name": "stdout",
     "output_type": "stream",
     "text": [
      "3.0\n",
      "2.5\n"
     ]
    }
   ],
   "source": [
    "# Exercise 35\n",
    "def divide(a, b):\n",
    "    return a / b\n",
    "\n",
    "print(divide(27, 9))\n",
    "print(divide(5, 2))"
   ]
  },
  {
   "cell_type": "code",
   "execution_count": 36,
   "id": "63393720",
   "metadata": {},
   "outputs": [
    {
     "name": "stdout",
     "output_type": "stream",
     "text": [
      "9\n",
      "3\n"
     ]
    }
   ],
   "source": [
    "# Exercise 36\n",
    "def quotient(a, b):\n",
    "    return a // b\n",
    "\n",
    "print(quotient(27, 3))\n",
    "print(quotient(10, 3))"
   ]
  },
  {
   "cell_type": "code",
   "execution_count": 37,
   "id": "1e0a151f",
   "metadata": {},
   "outputs": [
    {
     "name": "stdout",
     "output_type": "stream",
     "text": [
      "0\n",
      "1\n"
     ]
    }
   ],
   "source": [
    "# Exercise 37\n",
    "def remainder(a, b):\n",
    "    return a % b\n",
    "\n",
    "print(remainder(3, 3))\n",
    "print(remainder(5, 2))"
   ]
  },
  {
   "cell_type": "code",
   "execution_count": 38,
   "id": "49657f69",
   "metadata": {},
   "outputs": [
    {
     "name": "stdout",
     "output_type": "stream",
     "text": [
      "13\n"
     ]
    }
   ],
   "source": [
    "# Exercise 38\n",
    "def sum_of_squares(a, b):\n",
    "    return a ** 2 + b ** 2\n",
    "\n",
    "print(sum_of_squares(3, 2))"
   ]
  },
  {
   "cell_type": "code",
   "execution_count": 39,
   "id": "822ba55d",
   "metadata": {},
   "outputs": [
    {
     "name": "stdout",
     "output_type": "stream",
     "text": [
      "7\n"
     ]
    }
   ],
   "source": [
    "# Exercise 39\n",
    "def times_two_plus_three(n):\n",
    "    return n * 2 + 3\n",
    "\n",
    "print(times_two_plus_three(2))"
   ]
  },
  {
   "cell_type": "code",
   "execution_count": 40,
   "id": "5c413b4b",
   "metadata": {},
   "outputs": [
    {
     "name": "stdout",
     "output_type": "stream",
     "text": [
      "10\n"
     ]
    }
   ],
   "source": [
    "# Exercise 40\n",
    "def area_of_rectangle(a, b):\n",
    "    return a * b\n",
    "\n",
    "print(area_of_rectangle(5, 2))"
   ]
  },
  {
   "cell_type": "code",
   "execution_count": 118,
   "id": "fe957306",
   "metadata": {},
   "outputs": [
    {
     "name": "stdout",
     "output_type": "stream",
     "text": [
      "28.274333882308138\n"
     ]
    }
   ],
   "source": [
    "# Exercise 41\n",
    "import math\n",
    "def area_of_circle(n):\n",
    "    return math.pi * (n ** 2)\n",
    "\n",
    "print(area_of_circle(3))"
   ]
  },
  {
   "cell_type": "code",
   "execution_count": 42,
   "id": "78da0854",
   "metadata": {},
   "outputs": [
    {
     "name": "stdout",
     "output_type": "stream",
     "text": [
      "18.84955592153876\n"
     ]
    }
   ],
   "source": [
    "# Exercise 42\n",
    "import math\n",
    "def circumference(n):\n",
    "    return 2 * math.pi * n\n",
    "\n",
    "print(circumference(3))"
   ]
  },
  {
   "cell_type": "code",
   "execution_count": 120,
   "id": "0c066813",
   "metadata": {},
   "outputs": [
    {
     "name": "stdout",
     "output_type": "stream",
     "text": [
      "True\n",
      "True\n",
      "True\n",
      "False\n",
      "False\n",
      "False\n"
     ]
    }
   ],
   "source": [
    "# Exercise 43\n",
    "def is_vowel(s):\n",
    "    vowels = [\"a\", \"e\", \"i\", \"o\", \"u\"]\n",
    "    if s.lower() in vowels:\n",
    "        return True\n",
    "    else:\n",
    "        return False\n",
    "\n",
    "print(is_vowel(\"a\"))\n",
    "print(is_vowel(\"E\"))\n",
    "print(is_vowel(\"A\"))\n",
    "print(is_vowel(\"B\"))\n",
    "print(is_vowel(\"c\"))\n",
    "print(is_vowel(\"Banana\"))"
   ]
  },
  {
   "cell_type": "code",
   "execution_count": 44,
   "id": "e9d07270",
   "metadata": {},
   "outputs": [
    {
     "name": "stdout",
     "output_type": "stream",
     "text": [
      "True\n",
      "False\n"
     ]
    }
   ],
   "source": [
    "# Exercise 44\n",
    "def has_vowels(s):\n",
    "    vowels = [\"a\", \"e\", \"i\", \"o\", \"u\"]\n",
    "    for letter in s.lower():\n",
    "        if letter in vowels:\n",
    "            return True\n",
    "    return False\n",
    "\n",
    "print(has_vowels(\"banana\"))\n",
    "print(has_vowels(\"wyrd\"))"
   ]
  },
  {
   "cell_type": "code",
   "execution_count": 45,
   "id": "c3c97430",
   "metadata": {},
   "outputs": [
    {
     "name": "stdout",
     "output_type": "stream",
     "text": [
      "3\n",
      "0\n"
     ]
    }
   ],
   "source": [
    "# Exercise 45\n",
    "def count_vowels(s):\n",
    "    vowels = [\"a\", \"e\", \"i\", \"o\", \"u\"]\n",
    "    count = 0\n",
    "    for letter in s.lower():\n",
    "        if letter in vowels:\n",
    "            count += 1\n",
    "    return count\n",
    "\n",
    "print(count_vowels(\"banana\"))\n",
    "print(count_vowels(\"wyrd\"))"
   ]
  },
  {
   "cell_type": "code",
   "execution_count": 46,
   "id": "79425aee",
   "metadata": {},
   "outputs": [
    {
     "name": "stdout",
     "output_type": "stream",
     "text": [
      "bnn\n",
      "bnt\n",
      "wyrd\n"
     ]
    }
   ],
   "source": [
    "# Exercise 46\n",
    "def remove_vowels(s):\n",
    "    res = \"\"\n",
    "    vowels = [\"a\", \"e\", \"i\", \"o\", \"u\"]\n",
    "    for letter in s.lower():\n",
    "        if letter not in vowels:\n",
    "            res += letter\n",
    "    return res\n",
    "\n",
    "print(remove_vowels(\"banana\"))\n",
    "print(remove_vowels(\"ubuntu\"))\n",
    "print(remove_vowels(\"wyrd\"))"
   ]
  },
  {
   "cell_type": "code",
   "execution_count": 47,
   "id": "aa7a6fb7",
   "metadata": {},
   "outputs": [
    {
     "name": "stdout",
     "output_type": "stream",
     "text": [
      "True\n",
      "False\n"
     ]
    }
   ],
   "source": [
    "# Exercise 47\n",
    "def starts_with_vowel(s):\n",
    "    vowels = [\"a\", \"e\", \"i\", \"o\", \"u\"]\n",
    "    if s[0].lower() in vowels:\n",
    "        return True\n",
    "    else:\n",
    "        return False\n",
    "    \n",
    "print(starts_with_vowel(\"ubuntu\"))\n",
    "print(starts_with_vowel(\"banana\"))"
   ]
  },
  {
   "cell_type": "code",
   "execution_count": 48,
   "id": "1c51bca9",
   "metadata": {},
   "outputs": [
    {
     "name": "stdout",
     "output_type": "stream",
     "text": [
      "True\n",
      "False\n"
     ]
    }
   ],
   "source": [
    "# Exercise 48\n",
    "def ends_with_vowel(s):\n",
    "    vowels = [\"a\", \"e\", \"i\", \"o\", \"u\"]\n",
    "    if s[-1].lower() in vowels:\n",
    "        return True\n",
    "    else:\n",
    "        return False\n",
    "    \n",
    "print(ends_with_vowel(\"ubuntu\"))\n",
    "print(ends_with_vowel(\"spinach\"))"
   ]
  },
  {
   "cell_type": "code",
   "execution_count": 49,
   "id": "f2ab9915",
   "metadata": {},
   "outputs": [
    {
     "name": "stdout",
     "output_type": "stream",
     "text": [
      "True\n",
      "False\n"
     ]
    }
   ],
   "source": [
    "# Exercise 49\n",
    "def starts_and_ends_with_vowel(s):\n",
    "    vowels = [\"a\", \"e\", \"i\", \"o\", \"u\"]\n",
    "    if s[0] in vowels and s[-1] in vowels:\n",
    "        return True\n",
    "    else:\n",
    "        return False\n",
    "    \n",
    "print(starts_and_ends_with_vowel(\"ubuntu\"))\n",
    "print(starts_and_ends_with_vowel(\"banana\"))"
   ]
  },
  {
   "cell_type": "code",
   "execution_count": 50,
   "id": "cb9937ef",
   "metadata": {},
   "outputs": [
    {
     "name": "stdout",
     "output_type": "stream",
     "text": [
      "a\n",
      "0\n",
      "python\n"
     ]
    }
   ],
   "source": [
    "# Exercise 50\n",
    "def first(s):\n",
    "    return s[0]\n",
    "\n",
    "print(first(\"abc\"))\n",
    "print(first([0, 1, 2]))\n",
    "print(first([\"python\", \"is\", \"awesome\"]))"
   ]
  },
  {
   "cell_type": "code",
   "execution_count": 51,
   "id": "d9913593",
   "metadata": {},
   "outputs": [
    {
     "name": "stdout",
     "output_type": "stream",
     "text": [
      "b\n",
      "1\n",
      "is\n"
     ]
    }
   ],
   "source": [
    "# Exercise 51\n",
    "def second(s):\n",
    "    return s[1]\n",
    "\n",
    "print(second(\"abc\"))\n",
    "print(second([0, 1, 2]))\n",
    "print(second([\"python\", \"is\", \"awesome\"]))"
   ]
  },
  {
   "cell_type": "code",
   "execution_count": 52,
   "id": "b644b717",
   "metadata": {},
   "outputs": [
    {
     "name": "stdout",
     "output_type": "stream",
     "text": [
      "c\n",
      "2\n",
      "awesome\n"
     ]
    }
   ],
   "source": [
    "# Exercise 52\n",
    "def third(s):\n",
    "    return s[2]\n",
    "\n",
    "print(third(\"abc\"))\n",
    "print(third([0, 1, 2]))\n",
    "print(third([\"python\", \"is\", \"awesome\"]))"
   ]
  },
  {
   "cell_type": "code",
   "execution_count": 53,
   "id": "aa5dd98e",
   "metadata": {},
   "outputs": [
    {
     "name": "stdout",
     "output_type": "stream",
     "text": [
      "d\n",
      "3\n",
      "right?\n"
     ]
    }
   ],
   "source": [
    "# Exercise 53\n",
    "def forth(s):\n",
    "    return s[3]\n",
    "\n",
    "print(forth(\"abcd\"))\n",
    "print(forth([0, 1, 2, 3]))\n",
    "print(forth([\"python\", \"is\", \"awesome\", \"right?\"]))"
   ]
  },
  {
   "cell_type": "code",
   "execution_count": 54,
   "id": "c63846b0",
   "metadata": {},
   "outputs": [
    {
     "name": "stdout",
     "output_type": "stream",
     "text": [
      "d\n",
      "3\n",
      "right?\n"
     ]
    }
   ],
   "source": [
    "# Exercise 55\n",
    "def last(s):\n",
    "    return s[-1]\n",
    "\n",
    "print(last(\"abcd\"))\n",
    "print(last([0, 1, 2, 3]))\n",
    "print(last([\"python\", \"is\", \"awesome\", \"right?\"]))"
   ]
  },
  {
   "cell_type": "code",
   "execution_count": 55,
   "id": "5cc36d5c",
   "metadata": {},
   "outputs": [
    {
     "name": "stdout",
     "output_type": "stream",
     "text": [
      "c\n",
      "2\n",
      "awesome\n"
     ]
    }
   ],
   "source": [
    "# Exercise 55\n",
    "def second_to_last(s):\n",
    "    return s[-2]\n",
    "\n",
    "print(second_to_last(\"abcd\"))\n",
    "print(second_to_last([0, 1, 2, 3]))\n",
    "print(second_to_last([\"python\", \"is\", \"awesome\", \"right?\"]))"
   ]
  },
  {
   "cell_type": "code",
   "execution_count": 56,
   "id": "6d8c623f",
   "metadata": {},
   "outputs": [
    {
     "name": "stdout",
     "output_type": "stream",
     "text": [
      "b\n",
      "1\n",
      "is\n"
     ]
    }
   ],
   "source": [
    "# Exercise 56\n",
    "def third_to_last(s):\n",
    "    return s[-3]\n",
    "\n",
    "print(third_to_last(\"abcd\"))\n",
    "print(third_to_last([0, 1, 2, 3]))\n",
    "print(third_to_last([\"python\", \"is\", \"awesome\", \"right?\"]))"
   ]
  },
  {
   "cell_type": "code",
   "execution_count": 57,
   "id": "3d7a3979",
   "metadata": {},
   "outputs": [
    {
     "name": "stdout",
     "output_type": "stream",
     "text": [
      "['a', 'b']\n",
      "[0, 1]\n",
      "['python', 'is']\n"
     ]
    }
   ],
   "source": [
    "# Exercise 57\n",
    "def first_and_second(s):\n",
    "    return [s[0], s[1]]\n",
    "\n",
    "print(first_and_second(\"abcd\"))\n",
    "print(first_and_second([0, 1, 2, 3]))\n",
    "print(first_and_second([\"python\", \"is\", \"awesome\", \"right?\"]))"
   ]
  },
  {
   "cell_type": "code",
   "execution_count": 58,
   "id": "8621386d",
   "metadata": {},
   "outputs": [
    {
     "name": "stdout",
     "output_type": "stream",
     "text": [
      "['a', 'd']\n",
      "[0, 3]\n",
      "['python', 'right?']\n"
     ]
    }
   ],
   "source": [
    "# Exercise 58\n",
    "def first_and_last(s):\n",
    "    return [s[0], s[-1]]\n",
    "\n",
    "print(first_and_last(\"abcd\"))\n",
    "print(first_and_last([0, 1, 2, 3]))\n",
    "print(first_and_last([\"python\", \"is\", \"awesome\", \"right?\"]))"
   ]
  },
  {
   "cell_type": "code",
   "execution_count": 59,
   "id": "e69bb882",
   "metadata": {},
   "outputs": [
    {
     "name": "stdout",
     "output_type": "stream",
     "text": [
      "[2, 3, 4, 1]\n",
      "['is', 'awesome', 'python']\n"
     ]
    }
   ],
   "source": [
    "# Exercise 59\n",
    "def first_to_last(s):\n",
    "    return s[1:] + [s[0]]\n",
    "\n",
    "print(first_to_last([1, 2, 3, 4]))\n",
    "print(first_to_last([\"python\", \"is\", \"awesome\"]))"
   ]
  },
  {
   "cell_type": "code",
   "execution_count": 60,
   "id": "0cce3e5a",
   "metadata": {},
   "outputs": [
    {
     "name": "stdout",
     "output_type": "stream",
     "text": [
      "10\n"
     ]
    }
   ],
   "source": [
    "# Exercise 60\n",
    "def sum_all(values):\n",
    "    res = 0\n",
    "    for i in values:\n",
    "        res += i\n",
    "    return res\n",
    "\n",
    "print(sum_all([1, 2, 3, 4]))"
   ]
  },
  {
   "cell_type": "code",
   "execution_count": 61,
   "id": "7203a29b",
   "metadata": {},
   "outputs": [
    {
     "name": "stdout",
     "output_type": "stream",
     "text": [
      "2.5\n"
     ]
    }
   ],
   "source": [
    "# Exercise 61\n",
    "def mean(values):\n",
    "    res = 0\n",
    "    for i in values:\n",
    "        res += i\n",
    "    return res / len(values)\n",
    "\n",
    "print(mean([1, 2, 3, 4]))"
   ]
  },
  {
   "cell_type": "code",
   "execution_count": 62,
   "id": "0b97475b",
   "metadata": {},
   "outputs": [
    {
     "name": "stdout",
     "output_type": "stream",
     "text": [
      "3.5\n",
      "5\n"
     ]
    }
   ],
   "source": [
    "# Exercise 62\n",
    "def median(values):\n",
    "    if len(values) % 2 == 0:\n",
    "        return (values[len(values) // 2] + values[(len(values) // 2) - 1]) / 2\n",
    "    else:\n",
    "        return values[len(values) // 2]\n",
    "\n",
    "print(median([1, 2, 5, 6]))\n",
    "print(median([1, 5, 6]))"
   ]
  },
  {
   "cell_type": "code",
   "execution_count": 63,
   "id": "224b7161",
   "metadata": {},
   "outputs": [
    {
     "name": "stdout",
     "output_type": "stream",
     "text": [
      "2\n"
     ]
    }
   ],
   "source": [
    "# Exercise 63\n",
    "def mode(values):\n",
    "    return max(set(values), key=values.count)\n",
    "    \n",
    "print(mode([1, 2, 2, 3, 4]))"
   ]
  },
  {
   "cell_type": "code",
   "execution_count": 64,
   "id": "6a6214a8",
   "metadata": {},
   "outputs": [
    {
     "name": "stdout",
     "output_type": "stream",
     "text": [
      "6\n"
     ]
    }
   ],
   "source": [
    "# Exercise 64\n",
    "def product_of_all(values):\n",
    "    res = 1\n",
    "    for i in values:\n",
    "        res *= i\n",
    "    return res\n",
    "\n",
    "print(product_of_all([1, 2, 3]))"
   ]
  },
  {
   "cell_type": "code",
   "execution_count": 65,
   "id": "2120fdbe",
   "metadata": {},
   "outputs": [
    {
     "name": "stdout",
     "output_type": "stream",
     "text": [
      "3\n",
      "-1\n"
     ]
    }
   ],
   "source": [
    "# Exercise 65\n",
    "def get_highest_number(values):\n",
    "    return max(values)\n",
    "\n",
    "print(get_highest_number([1, 2, 3]))\n",
    "print(get_highest_number([-1, -2, -3]))"
   ]
  },
  {
   "cell_type": "code",
   "execution_count": 66,
   "id": "4ec3d1ed",
   "metadata": {},
   "outputs": [
    {
     "name": "stdout",
     "output_type": "stream",
     "text": [
      "1\n",
      "-3\n"
     ]
    }
   ],
   "source": [
    "# Exercise 66\n",
    "def get_smallest_number(values):\n",
    "    return min(values)\n",
    "\n",
    "print(get_smallest_number([1, 2, 3]))\n",
    "print(get_smallest_number([-1, -2, -3]))"
   ]
  },
  {
   "cell_type": "code",
   "execution_count": 67,
   "id": "9fe41f2f",
   "metadata": {},
   "outputs": [
    {
     "name": "stdout",
     "output_type": "stream",
     "text": [
      "[1, 3]\n"
     ]
    }
   ],
   "source": [
    "# Exercise 67\n",
    "def only_odd_numbers(values):\n",
    "    res = []\n",
    "    for i in values:\n",
    "        if i%2 != 0:\n",
    "            res.append(i)\n",
    "    return res\n",
    "\n",
    "print(only_odd_numbers([1, 2, 3]))"
   ]
  },
  {
   "cell_type": "code",
   "execution_count": 68,
   "id": "b2204299",
   "metadata": {},
   "outputs": [
    {
     "name": "stdout",
     "output_type": "stream",
     "text": [
      "[2]\n"
     ]
    }
   ],
   "source": [
    "# Exercise 68\n",
    "def only_even_numbers(values):\n",
    "    res = []\n",
    "    for i in values:\n",
    "        if i%2 == 0:\n",
    "            res.append(i)\n",
    "    return res\n",
    "\n",
    "print(only_even_numbers([1, 2, 3]))"
   ]
  },
  {
   "cell_type": "code",
   "execution_count": 69,
   "id": "540de8db",
   "metadata": {},
   "outputs": [
    {
     "name": "stdout",
     "output_type": "stream",
     "text": [
      "[1, 2]\n"
     ]
    }
   ],
   "source": [
    "# Exercise 69\n",
    "def only_positive_numbers(values):\n",
    "    res = []\n",
    "    for i in values:\n",
    "        if i > 0:\n",
    "            res.append(i)\n",
    "    return res\n",
    "\n",
    "print(only_positive_numbers([-4, -3, 1, 2, 0]))"
   ]
  },
  {
   "cell_type": "code",
   "execution_count": 70,
   "id": "5b97d9e0",
   "metadata": {},
   "outputs": [
    {
     "name": "stdout",
     "output_type": "stream",
     "text": [
      "[-4, -3]\n"
     ]
    }
   ],
   "source": [
    "# Exercise 70\n",
    "def only_negative_numbers(values):\n",
    "    res = []\n",
    "    for i in values:\n",
    "        if i < 0:\n",
    "            res.append(i)\n",
    "    return res\n",
    "\n",
    "print(only_negative_numbers([-4, -3, 1, 2, 0]))"
   ]
  },
  {
   "cell_type": "code",
   "execution_count": 71,
   "id": "83858b26",
   "metadata": {},
   "outputs": [
    {
     "name": "stdout",
     "output_type": "stream",
     "text": [
      "True\n",
      "False\n"
     ]
    }
   ],
   "source": [
    "# Exercise 71\n",
    "def has_evens(values):\n",
    "    for i in values:\n",
    "        if i % 2 == 0:\n",
    "            return True\n",
    "    return False\n",
    "\n",
    "print(has_evens([0, 1, 2]))\n",
    "print(has_evens([1, 3]))"
   ]
  },
  {
   "cell_type": "code",
   "execution_count": 72,
   "id": "7a60c624",
   "metadata": {},
   "outputs": [
    {
     "name": "stdout",
     "output_type": "stream",
     "text": [
      "2\n",
      "0\n"
     ]
    }
   ],
   "source": [
    "# Exercise 72\n",
    "def count_evens(values):\n",
    "    count = 0\n",
    "    for i in values:\n",
    "        if i % 2 == 0:\n",
    "            count += 1\n",
    "    return count\n",
    "\n",
    "print(count_evens([0, 1, 2]))\n",
    "print(count_evens([1, 3]))"
   ]
  },
  {
   "cell_type": "code",
   "execution_count": 73,
   "id": "0a8dee5d",
   "metadata": {},
   "outputs": [
    {
     "name": "stdout",
     "output_type": "stream",
     "text": [
      "False\n",
      "True\n"
     ]
    }
   ],
   "source": [
    "# Exercise 73\n",
    "def has_odds(values):\n",
    "    for i in values:\n",
    "        if i % 2 != 0:\n",
    "            return True\n",
    "    return False\n",
    "\n",
    "print(has_odds([0, 2]))\n",
    "print(has_odds([1, 3]))"
   ]
  },
  {
   "cell_type": "code",
   "execution_count": 74,
   "id": "6732e62a",
   "metadata": {},
   "outputs": [
    {
     "name": "stdout",
     "output_type": "stream",
     "text": [
      "0\n",
      "2\n"
     ]
    }
   ],
   "source": [
    "# Exercise 74\n",
    "def count_odds(values):\n",
    "    count = 0\n",
    "    for i in values:\n",
    "        if i % 2 != 0:\n",
    "            count += 1\n",
    "    return count\n",
    "\n",
    "print(count_odds([0, 2]))\n",
    "print(count_odds([1, 3]))"
   ]
  },
  {
   "cell_type": "code",
   "execution_count": 75,
   "id": "db0046a9",
   "metadata": {},
   "outputs": [
    {
     "name": "stdout",
     "output_type": "stream",
     "text": [
      "2\n",
      "0\n"
     ]
    }
   ],
   "source": [
    "# Exercise 75\n",
    "def count_negatives(values):\n",
    "    count = 0\n",
    "    for i in values:\n",
    "        if i < 0:\n",
    "            count += 1\n",
    "    return count\n",
    "\n",
    "print(count_negatives([1, -2, -3]))\n",
    "print(count_negatives([0, 1, 2]))"
   ]
  },
  {
   "cell_type": "code",
   "execution_count": 76,
   "id": "43220117",
   "metadata": {},
   "outputs": [
    {
     "name": "stdout",
     "output_type": "stream",
     "text": [
      "0\n",
      "2\n"
     ]
    }
   ],
   "source": [
    "# Exercise 76\n",
    "def count_positives(values):\n",
    "    count = 0\n",
    "    for i in values:\n",
    "        if i > 0:\n",
    "            count += 1\n",
    "    return count\n",
    "\n",
    "print(count_positives([-1, -2, -3]))\n",
    "print(count_positives([0, 1, 2]))"
   ]
  },
  {
   "cell_type": "code",
   "execution_count": 77,
   "id": "290d15e8",
   "metadata": {},
   "outputs": [
    {
     "name": "stdout",
     "output_type": "stream",
     "text": [
      "[]\n",
      "[4, 6]\n"
     ]
    }
   ],
   "source": [
    "# Exercise 77\n",
    "def only_positive_evens(values):\n",
    "    res = []\n",
    "    for i in values:\n",
    "        if i > 0 and i % 2 == 0:\n",
    "            res.append(i)\n",
    "    return res\n",
    "\n",
    "print(only_positive_evens([1, -2, -3]))\n",
    "print(only_positive_evens([3, 3, 4, 6]))"
   ]
  },
  {
   "cell_type": "code",
   "execution_count": 78,
   "id": "a5b07a69",
   "metadata": {},
   "outputs": [
    {
     "name": "stdout",
     "output_type": "stream",
     "text": [
      "[1]\n",
      "[3, 3, 7]\n"
     ]
    }
   ],
   "source": [
    "# Exercise 78\n",
    "def only_positive_odds(values):\n",
    "    res = []\n",
    "    for i in values:\n",
    "        if i > 0 and i % 2 != 0:\n",
    "            res.append(i)\n",
    "    return res\n",
    "\n",
    "print(only_positive_odds([1, -2, -3]))\n",
    "print(only_positive_odds([3, 3, 4, 7]))"
   ]
  },
  {
   "cell_type": "code",
   "execution_count": 79,
   "id": "5e66d8c4",
   "metadata": {},
   "outputs": [
    {
     "name": "stdout",
     "output_type": "stream",
     "text": [
      "[-2]\n",
      "[]\n"
     ]
    }
   ],
   "source": [
    "# Exercise 79\n",
    "def only_negative_evens(values):\n",
    "    res = []\n",
    "    for i in values:\n",
    "        if i < 0 and i % 2 == 0:\n",
    "            res.append(i)\n",
    "    return res\n",
    "\n",
    "print(only_negative_evens([1, -2, -3]))\n",
    "print(only_negative_evens([3, 3, 4, 6]))"
   ]
  },
  {
   "cell_type": "code",
   "execution_count": 80,
   "id": "f7a5c72e",
   "metadata": {},
   "outputs": [
    {
     "name": "stdout",
     "output_type": "stream",
     "text": [
      "[-3]\n",
      "[]\n"
     ]
    }
   ],
   "source": [
    "# Exercise 80\n",
    "def only_negative_odds(values):\n",
    "    res = []\n",
    "    for i in values:\n",
    "        if i < 0 and i % 2 != 0:\n",
    "            res.append(i)\n",
    "    return res\n",
    "\n",
    "print(only_negative_odds([1, -2, -3]))\n",
    "print(only_negative_odds([3, 3, 4, 6]))"
   ]
  },
  {
   "cell_type": "code",
   "execution_count": 81,
   "id": "6813af25",
   "metadata": {},
   "outputs": [
    {
     "name": "stdout",
     "output_type": "stream",
     "text": [
      "kiwi\n"
     ]
    }
   ],
   "source": [
    "# Exercise 81\n",
    "def shortest_string(values):\n",
    "    values.sort(key=len)\n",
    "    return values[0]\n",
    "\n",
    "print(shortest_string([\"mango\", \"kiwi\", \"strawberry\"]))"
   ]
  },
  {
   "cell_type": "code",
   "execution_count": 82,
   "id": "e909eca7",
   "metadata": {},
   "outputs": [
    {
     "name": "stdout",
     "output_type": "stream",
     "text": [
      "strawberry\n"
     ]
    }
   ],
   "source": [
    "# Exercise 82\n",
    "def longest_string(values):\n",
    "    values.sort(key=len, reverse=True)\n",
    "    return values[0]\n",
    "\n",
    "print(longest_string([\"mango\", \"kiwi\", \"strawberry\"]))"
   ]
  },
  {
   "cell_type": "code",
   "execution_count": 83,
   "id": "d34a5543",
   "metadata": {},
   "outputs": [
    {
     "name": "stdout",
     "output_type": "stream",
     "text": [
      "{'ant', 'ladybug', 'mosquito'}\n"
     ]
    }
   ],
   "source": [
    "# Exercise 83\n",
    "def get_unique_values(values):\n",
    "    return set(values)\n",
    "\n",
    "print(get_unique_values([\"ant\", \"ant\", \"mosquito\", \"ladybug\"]))"
   ]
  },
  {
   "cell_type": "code",
   "execution_count": 84,
   "id": "b3424c67",
   "metadata": {},
   "outputs": [
    {
     "name": "stdout",
     "output_type": "stream",
     "text": [
      "{1, 2, 3, 4, 5}\n"
     ]
    }
   ],
   "source": [
    "# Exercise 84\n",
    "def get_unique_values_from_two_lists(lst1, lst2):\n",
    "    return set(lst1 + lst2)\n",
    "\n",
    "print(get_unique_values_from_two_lists([5, 1, 2, 3], [3, 4, 5, 5]))"
   ]
  },
  {
   "cell_type": "code",
   "execution_count": 85,
   "id": "fb92f5c5",
   "metadata": {},
   "outputs": [
    {
     "name": "stdout",
     "output_type": "stream",
     "text": [
      "{3, 5}\n"
     ]
    }
   ],
   "source": [
    "# Exercise 85\n",
    "def get_values_in_common(lst1, lst2):\n",
    "    return set(lst1).intersection(set(lst2))\n",
    "\n",
    "print(get_values_in_common([5, 1, 2, 3], [3, 4, 5, 5]))"
   ]
  },
  {
   "cell_type": "code",
   "execution_count": 86,
   "id": "f5cdc195",
   "metadata": {},
   "outputs": [
    {
     "name": "stdout",
     "output_type": "stream",
     "text": [
      "{1, 2, 4}\n"
     ]
    }
   ],
   "source": [
    "# Exercise 86\n",
    "def get_values_not_in_common(lst1, lst2):\n",
    "    return set(lst1) ^ set(lst2)\n",
    "\n",
    "print(get_values_not_in_common([5, 1, 2, 3], [3, 4, 5, 5]))"
   ]
  },
  {
   "cell_type": "code",
   "execution_count": 87,
   "id": "a5a9e20d",
   "metadata": {},
   "outputs": [],
   "source": [
    "tukey_paper = {\n",
    "    \"title\": \"The Future of Data Analysis\",\n",
    "    \"author\": \"John W. Tukey\",\n",
    "    \"link\": \"https://projecteuclid.org/euclid.aoms/1177704711\",\n",
    "    \"year_published\": 1962\n",
    "}\n",
    "\n",
    "thomas_paper = {\n",
    "    \"title\": \"A mathematical model of glutathione metabolism\",\n",
    "    \"author\": \"Rachel Thomas\",\n",
    "    \"link\": \"https://www.ncbi.nlm.nih.gov/pubmed/18442411\",\n",
    "    \"year_published\": 2008\n",
    "}"
   ]
  },
  {
   "cell_type": "code",
   "execution_count": 88,
   "id": "d84b4dc8",
   "metadata": {},
   "outputs": [
    {
     "name": "stdout",
     "output_type": "stream",
     "text": [
      "The Future of Data Analysis\n",
      "A mathematical model of glutathione metabolism\n"
     ]
    }
   ],
   "source": [
    "# Exercise 87\n",
    "def get_paper_title(d):\n",
    "    return d[\"title\"]\n",
    "\n",
    "print(get_paper_title(tukey_paper))\n",
    "print(get_paper_title(thomas_paper))"
   ]
  },
  {
   "cell_type": "code",
   "execution_count": 89,
   "id": "97302018",
   "metadata": {},
   "outputs": [
    {
     "name": "stdout",
     "output_type": "stream",
     "text": [
      "1962\n",
      "2008\n"
     ]
    }
   ],
   "source": [
    "# Exercise 88\n",
    "def get_year_published(d):\n",
    "    return d[\"year_published\"]\n",
    "\n",
    "print(get_year_published(tukey_paper))\n",
    "print(get_year_published(thomas_paper))"
   ]
  },
  {
   "cell_type": "code",
   "execution_count": 90,
   "id": "0b657873",
   "metadata": {},
   "outputs": [],
   "source": [
    "book = {\n",
    "    \"title\": \"Genetic Algorithms and Machine Learning for Programmers\",\n",
    "    \"price\": 36.99,\n",
    "    \"author\": \"Frances Buontempo\"\n",
    "}"
   ]
  },
  {
   "cell_type": "code",
   "execution_count": 91,
   "id": "59a5a894",
   "metadata": {},
   "outputs": [
    {
     "name": "stdout",
     "output_type": "stream",
     "text": [
      "36.99\n"
     ]
    }
   ],
   "source": [
    "# Exercise 89\n",
    "def get_price(d):\n",
    "    return d[\"price\"]\n",
    "\n",
    "print(get_price(book))"
   ]
  },
  {
   "cell_type": "code",
   "execution_count": 92,
   "id": "f2d56fee",
   "metadata": {},
   "outputs": [
    {
     "name": "stdout",
     "output_type": "stream",
     "text": [
      "Frances Buontempo\n"
     ]
    }
   ],
   "source": [
    "# Exercise 90\n",
    "def get_author_book(d):\n",
    "    return d[\"author\"]\n",
    "\n",
    "print(get_author_book(book))"
   ]
  },
  {
   "cell_type": "code",
   "execution_count": 93,
   "id": "26e6bea6",
   "metadata": {},
   "outputs": [],
   "source": [
    "books = [\n",
    "    {\n",
    "        \"title\": \"Genetic Algorithms and Machine Learning for Programmers\",\n",
    "        \"price\": 36.99,\n",
    "        \"author\": \"Frances Buontempo\"\n",
    "    },\n",
    "    {\n",
    "        \"title\": \"The Visual Display of Quantitative Information\",\n",
    "        \"price\": 38.00,\n",
    "        \"author\": \"Edward Tufte\"\n",
    "    },\n",
    "    {\n",
    "        \"title\": \"Practical Object-Oriented Design\",\n",
    "        \"author\": \"Sandi Metz\",\n",
    "        \"price\": 30.47\n",
    "    },\n",
    "    {\n",
    "        \"title\": \"Weapons of Math Destruction\",\n",
    "        \"author\": \"Cathy O'Neil\",\n",
    "        \"price\": 17.44\n",
    "    }\n",
    "]"
   ]
  },
  {
   "cell_type": "code",
   "execution_count": 94,
   "id": "504e196d",
   "metadata": {},
   "outputs": [
    {
     "name": "stdout",
     "output_type": "stream",
     "text": [
      "4\n"
     ]
    }
   ],
   "source": [
    "# Exercise 91\n",
    "def get_number_of_books(b):\n",
    "    return len(b)\n",
    "\n",
    "print(get_number_of_books(books))"
   ]
  },
  {
   "cell_type": "code",
   "execution_count": 95,
   "id": "29c50ddb",
   "metadata": {},
   "outputs": [
    {
     "name": "stdout",
     "output_type": "stream",
     "text": [
      "122.9\n"
     ]
    }
   ],
   "source": [
    "# Exercise 92\n",
    "def total_of_book_prices(b):\n",
    "    res = 0\n",
    "    for i in b:\n",
    "        res += i[\"price\"]\n",
    "    return res\n",
    "\n",
    "print(total_of_book_prices(books))"
   ]
  },
  {
   "cell_type": "code",
   "execution_count": 96,
   "id": "3bb0c869",
   "metadata": {},
   "outputs": [
    {
     "name": "stdout",
     "output_type": "stream",
     "text": [
      "30.725\n"
     ]
    }
   ],
   "source": [
    "# Exercise 93\n",
    "def get_average_book_price(b):\n",
    "    res = 0\n",
    "    for i in b:\n",
    "        res += i[\"price\"]\n",
    "    return res / len(b)\n",
    "\n",
    "print(get_average_book_price(books))"
   ]
  },
  {
   "cell_type": "code",
   "execution_count": 97,
   "id": "859c728c",
   "metadata": {},
   "outputs": [
    {
     "name": "stdout",
     "output_type": "stream",
     "text": [
      "{'title': 'The Visual Display of Quantitative Information', 'price': 38.0, 'author': 'Edward Tufte'}\n"
     ]
    }
   ],
   "source": [
    "# Exercise 94\n",
    "def highest_price_book(b):\n",
    "    max_price = 0\n",
    "    res = {}\n",
    "    for i in b:\n",
    "        if i[\"price\"] > max_price:\n",
    "            max_price = i[\"price\"]\n",
    "            res[\"title\"] = i[\"title\"]\n",
    "            res[\"price\"] = i[\"price\"]\n",
    "            res[\"author\"] = i[\"author\"]\n",
    "    return res\n",
    "\n",
    "print(highest_price_book(books))"
   ]
  },
  {
   "cell_type": "code",
   "execution_count": 98,
   "id": "27b91cae",
   "metadata": {},
   "outputs": [
    {
     "name": "stdout",
     "output_type": "stream",
     "text": [
      "{'title': 'Weapons of Math Destruction', 'price': 17.44, 'author': \"Cathy O'Neil\"}\n"
     ]
    }
   ],
   "source": [
    "# Exercise 95\n",
    "def lowest_price_book(b):\n",
    "    res = {}\n",
    "    min_price = float(\"inf\")\n",
    "    for i in b:\n",
    "        if i[\"price\"] < min_price:\n",
    "            min_pirce = i[\"price\"]\n",
    "            res[\"title\"] = i[\"title\"]\n",
    "            res[\"price\"] = i[\"price\"]\n",
    "            res[\"author\"] = i[\"author\"]\n",
    "    return res\n",
    "\n",
    "print(lowest_price_book(books))"
   ]
  },
  {
   "cell_type": "code",
   "execution_count": 99,
   "id": "66bf8445",
   "metadata": {},
   "outputs": [],
   "source": [
    "shopping_cart = {\n",
    "    \"tax\": .08,\n",
    "    \"items\": [\n",
    "        {\n",
    "            \"title\": \"orange juice\",\n",
    "            \"price\": 3.99,\n",
    "            \"quantity\": 1\n",
    "        },\n",
    "        {\n",
    "            \"title\": \"rice\",\n",
    "            \"price\": 1.99,\n",
    "            \"quantity\": 3\n",
    "        },\n",
    "        {\n",
    "            \"title\": \"beans\",\n",
    "            \"price\": 0.99,\n",
    "            \"quantity\": 3\n",
    "        },\n",
    "        {\n",
    "            \"title\": \"chili sauce\",\n",
    "            \"price\": 2.99,\n",
    "            \"quantity\": 1\n",
    "        },\n",
    "        {\n",
    "            \"title\": \"chocolate\",\n",
    "            \"price\": 0.75,\n",
    "            \"quantity\": 9\n",
    "        }\n",
    "    ]\n",
    "}"
   ]
  },
  {
   "cell_type": "code",
   "execution_count": 100,
   "id": "bd60ffd8",
   "metadata": {},
   "outputs": [
    {
     "name": "stdout",
     "output_type": "stream",
     "text": [
      "0.08\n"
     ]
    }
   ],
   "source": [
    "# Exercise 96\n",
    "def get_tax_rate(c):\n",
    "    return c[\"tax\"]\n",
    "\n",
    "print(get_tax_rate(shopping_cart))"
   ]
  },
  {
   "cell_type": "code",
   "execution_count": null,
   "id": "62693476",
   "metadata": {},
   "outputs": [],
   "source": [
    "\n"
   ]
  },
  {
   "cell_type": "code",
   "execution_count": null,
   "id": "8853502e",
   "metadata": {},
   "outputs": [],
   "source": []
  },
  {
   "cell_type": "code",
   "execution_count": null,
   "id": "bbd43116",
   "metadata": {},
   "outputs": [],
   "source": []
  },
  {
   "cell_type": "code",
   "execution_count": null,
   "id": "46f9b5f2",
   "metadata": {},
   "outputs": [],
   "source": []
  },
  {
   "cell_type": "code",
   "execution_count": null,
   "id": "70b77a64",
   "metadata": {},
   "outputs": [],
   "source": []
  },
  {
   "cell_type": "code",
   "execution_count": null,
   "id": "1ed80007",
   "metadata": {},
   "outputs": [],
   "source": []
  }
 ],
 "metadata": {
  "kernelspec": {
   "display_name": "Python 3",
   "language": "python",
   "name": "python3"
  },
  "language_info": {
   "codemirror_mode": {
    "name": "ipython",
    "version": 3
   },
   "file_extension": ".py",
   "mimetype": "text/x-python",
   "name": "python",
   "nbconvert_exporter": "python",
   "pygments_lexer": "ipython3",
   "version": "3.8.8"
  }
 },
 "nbformat": 4,
 "nbformat_minor": 5
}
