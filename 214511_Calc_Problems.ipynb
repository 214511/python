{
 "cells": [
  {
   "cell_type": "code",
   "execution_count": 1,
   "metadata": {
    "colab": {
     "base_uri": "https://localhost:8080/"
    },
    "id": "uoEsl4xB-LuU",
    "outputId": "bdbcaef2-ad8b-4fa5-8389-5302bf475701"
   },
   "outputs": [
    {
     "name": "stdout",
     "output_type": "stream",
     "text": [
      "P = 100\n",
      "A = 54\n",
      "T = 23\n",
      "-2.0\n"
     ]
    }
   ],
   "source": [
    "# The calculates the rate of interest\n",
    "# a = p + si \n",
    "# a = p + (prt/100)\n",
    "# a - p = prt/100\n",
    "p = float(input('P = '))\n",
    "a = float(input('A = ')) \n",
    "t = float(input('T = ')) \n",
    "r = ((a - p) * 100) / (p * t)\n",
    "print(r)"
   ]
  },
  {
   "cell_type": "code",
   "execution_count": 2,
   "metadata": {
    "colab": {
     "base_uri": "https://localhost:8080/",
     "height": 35
    },
    "id": "ievilCTaMtip",
    "outputId": "b4e593be-0a53-4fb2-83ad-556c174fd50c"
   },
   "outputs": [
    {
     "data": {
      "application/vnd.google.colaboratory.intrinsic+json": {
       "type": "string"
      },
      "text/plain": [
       "\"l'argent\""
      ]
     },
     "execution_count": 2,
     "metadata": {},
     "output_type": "execute_result"
    }
   ],
   "source": [
    "\n",
    "\n",
    "'l' + \"'\" + 'argent'"
   ]
  },
  {
   "cell_type": "code",
   "execution_count": 3,
   "metadata": {
    "colab": {
     "base_uri": "https://localhost:8080/"
    },
    "id": "tw8tqldo_9Qt",
    "outputId": "63ce0c6d-e0fe-460b-8ba2-fe76ed743e21"
   },
   "outputs": [
    {
     "name": "stdout",
     "output_type": "stream",
     "text": [
      "R = 68\n",
      "Larger Time = 23\n",
      "Shorter Time = 43\n",
      "Difference between interests : 12\n",
      "-352.9411764705883\n"
     ]
    }
   ],
   "source": [
    "r = float(input('R = ')) \n",
    "t1 = float(input('Larger Time = ')) \n",
    "t2 = float(input('Shorter Time = ')) \n",
    "dif = float(input('Difference between interests : '))\n",
    "\n",
    "si1 = (p*r*t1)/100\n",
    "si2 = (p*r*t2)/100\n",
    "# calculation of the formula\n",
    "#dif = si1 - si2\n",
    "#dif = (p*r*t1)/100 - (p*r*t2)/100\n",
    "#dif = pr/100 (t1 - t2)\n",
    "p = (dif / r * (t1 - t2)) * 100\n",
    "print(p)\n",
    "\n"
   ]
  },
  {
   "cell_type": "code",
   "execution_count": 4,
   "metadata": {
    "colab": {
     "base_uri": "https://localhost:8080/"
    },
    "id": "OhwoDm7uC1Vc",
    "outputId": "48ab3b38-36f1-4e71-d309-fd086f89d0ad"
   },
   "outputs": [
    {
     "name": "stdout",
     "output_type": "stream",
     "text": [
      "R1 = 32\n",
      "T1 = 56\n",
      "R2 = 76\n",
      "T2 = 87\n",
      "Differenceb between interests 49\n",
      "-12.199170124481329\n"
     ]
    }
   ],
   "source": [
    "# The first pair of rate and time\n",
    "r1 = float(input('R1 = '))\n",
    "t1 = float(input('T1 = '))\n",
    "\n",
    "# The second pair of rate and time\n",
    "\n",
    "r2 = float(input('R2 = '))  \n",
    "t2 = float(input('T2 = ')) \n",
    "dif = float(input('Differenceb between interests '))\n",
    "\n",
    "#si = prt/100\n",
    "#diff = si1 - si2\n",
    "#dif = p*r1*t1/100  - p*r2*t2/100\n",
    "t1 = t1/12\n",
    "t2 = t2/12\n",
    "\n",
    "p = (dif * 100) / (r1*t1 - r2*t2)\n",
    "print(p)\n",
    "\n"
   ]
  },
  {
   "cell_type": "code",
   "execution_count": 5,
   "metadata": {
    "colab": {
     "base_uri": "https://localhost:8080/"
    },
    "id": "afVngf8bBIIK",
    "outputId": "4213956e-f1a3-4cb8-f6d8-71e691e82ef0"
   },
   "outputs": [
    {
     "name": "stdout",
     "output_type": "stream",
     "text": [
      "Enter the year : 2003\n",
      "It is not a leap year\n"
     ]
    }
   ],
   "source": [
    "year = int(input('Enter the year : '))\n",
    "\n",
    "if (year % 4 == 0) :\n",
    "  print('It is a leap year')\n",
    "else :\n",
    "  print('It is not a leap year')"
   ]
  }
 ],
 "metadata": {
  "colab": {
   "collapsed_sections": [],
   "name": " Calculation_programs_214502.",
   "provenance": []
  },
  "kernelspec": {
   "display_name": "Python 3",
   "language": "python",
   "name": "python3"
  },
  "language_info": {
   "codemirror_mode": {
    "name": "ipython",
    "version": 3
   },
   "file_extension": ".py",
   "mimetype": "text/x-python",
   "name": "python",
   "nbconvert_exporter": "python",
   "pygments_lexer": "ipython3",
   "version": "3.8.8"
  }
 },
 "nbformat": 4,
 "nbformat_minor": 1
}
